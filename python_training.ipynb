{
  "nbformat": 4,
  "nbformat_minor": 0,
  "metadata": {
    "colab": {
      "provenance": [],
      "authorship_tag": "ABX9TyN/jikq1EDdUOmyzDUsbBiM",
      "include_colab_link": true
    },
    "kernelspec": {
      "name": "python3",
      "display_name": "Python 3"
    },
    "language_info": {
      "name": "python"
    }
  },
  "cells": [
    {
      "cell_type": "markdown",
      "metadata": {
        "id": "view-in-github",
        "colab_type": "text"
      },
      "source": [
        "<a href=\"https://colab.research.google.com/github/comerenna/Computer-Vision-Assessment1/blob/main/python_training.ipynb\" target=\"_parent\"><img src=\"https://colab.research.google.com/assets/colab-badge.svg\" alt=\"Open In Colab\"/></a>"
      ]
    },
    {
      "cell_type": "code",
      "execution_count": 1,
      "metadata": {
        "colab": {
          "base_uri": "https://localhost:8080/"
        },
        "id": "tJR9Iyd9XqB1",
        "outputId": "4eee3d4f-0d01-42cb-a1e2-aa95e65464b1"
      },
      "outputs": [
        {
          "output_type": "stream",
          "name": "stdout",
          "text": [
            "Hello World!!\n"
          ]
        }
      ],
      "source": [
        "print(\"Hello World!!\")"
      ]
    },
    {
      "cell_type": "code",
      "source": [
        "x = 10\n",
        "if x == 15:\n",
        "  print(\"It is not possible\")\n",
        "else:\n",
        "  print(\"It is possible\")"
      ],
      "metadata": {
        "colab": {
          "base_uri": "https://localhost:8080/"
        },
        "id": "p86SEzqDXrjC",
        "outputId": "f5453669-9849-49eb-c8c4-1951afad2a52"
      },
      "execution_count": 2,
      "outputs": [
        {
          "output_type": "stream",
          "name": "stdout",
          "text": [
            "It is possible\n"
          ]
        }
      ]
    },
    {
      "cell_type": "code",
      "source": [
        "item1 = 100\n",
        "item2 = 200\n",
        "item3 = 300\n",
        "\n",
        "total_amount = item1 + item2 + item3\n",
        "print(total_amount)"
      ],
      "metadata": {
        "colab": {
          "base_uri": "https://localhost:8080/"
        },
        "id": "hX8W56szNHLj",
        "outputId": "cb062bf8-30db-4eba-e7f8-951898606aa8"
      },
      "execution_count": 2,
      "outputs": [
        {
          "output_type": "stream",
          "name": "stdout",
          "text": [
            "600\n"
          ]
        }
      ]
    },
    {
      "cell_type": "code",
      "source": [
        "loan_amount = 100000\n",
        "pay_so_far = 20000\n",
        "outstanding_amount = loan_amount - pay_so_far\n",
        "print(outstanding_amount)"
      ],
      "metadata": {
        "colab": {
          "base_uri": "https://localhost:8080/"
        },
        "id": "muF5Pk_BNonm",
        "outputId": "ef2356c4-6d6e-4bab-d655-abe6bf40f701"
      },
      "execution_count": 3,
      "outputs": [
        {
          "output_type": "stream",
          "name": "stdout",
          "text": [
            "80000\n"
          ]
        }
      ]
    },
    {
      "cell_type": "markdown",
      "source": [
        "#Imagine that you are building a credit risk calculator, you need to check the\n",
        "#outstanding amount (loan amount - pay so far) and check this\n",
        "#if the outstanding amount is above 50000, then it is a high risk account\n",
        "#if the outstanding amount is below or equal to 50000, then it is a moderate risk account\n",
        "\n"
      ],
      "metadata": {
        "id": "2AEid1RbQ4aD"
      }
    },
    {
      "cell_type": "code",
      "source": [
        "loan_amount_amount = 100000\n",
        "pay_so_far = 20000\n",
        "outstanding_amount = loan_amount - pay_so_far\n",
        "if outstanding_amount <= 50000:\n",
        "  print(\"it is a moderate risk\")\n",
        "else:\n",
        "  print(\"the risk is high!!!\")\n",
        "\n"
      ],
      "metadata": {
        "colab": {
          "base_uri": "https://localhost:8080/"
        },
        "id": "bCl6CZhqQ3n8",
        "outputId": "195cfc88-bf3c-4bd8-9e6b-8705d16d0e06"
      },
      "execution_count": 15,
      "outputs": [
        {
          "output_type": "stream",
          "name": "stdout",
          "text": [
            "the risk is high!!!\n"
          ]
        }
      ]
    },
    {
      "cell_type": "markdown",
      "source": [
        "#Imagine you are a groceries operator. Whenever you are doing the billing,\n",
        "#you have to calculate the total amount paid based on items purchased.\n",
        "#and for all the amount greater than 500, you will give 10% discount, and any amount below that you can give 5% off.\n",
        "#Finally, tell to customer how much to pay?\n"
      ],
      "metadata": {
        "id": "peXyazh8YmLr"
      }
    },
    {
      "cell_type": "code",
      "source": [
        "item1 = 100\n",
        "item2 = 100\n",
        "item3 = 150\n",
        "total_amount = item1 + item2 +item3\n",
        "\n",
        "if total_amount > 500:\n",
        "  total_amount = total_amount * 0.1\n",
        "  print(total_amount)\n",
        "elif total_amount < 500:\n",
        "  total_amount = total_amount * 0.05\n",
        "  print(total_amount)\n",
        "else:\n",
        "  print(\"i get it\")\n"
      ],
      "metadata": {
        "colab": {
          "base_uri": "https://localhost:8080/"
        },
        "id": "JDhpuaJsUYOs",
        "outputId": "e694d3d5-d095-426c-fd54-ff173b2ab009"
      },
      "execution_count": 25,
      "outputs": [
        {
          "output_type": "stream",
          "name": "stdout",
          "text": [
            "17.5\n"
          ]
        }
      ]
    }
  ]
}