{
  "nbformat": 4,
  "nbformat_minor": 0,
  "metadata": {
    "colab": {
      "provenance": [],
      "authorship_tag": "ABX9TyM90iv0ieaAnowIBvzaPeH9",
      "include_colab_link": true
    },
    "kernelspec": {
      "name": "python3",
      "display_name": "Python 3"
    },
    "language_info": {
      "name": "python"
    }
  },
  "cells": [
    {
      "cell_type": "markdown",
      "metadata": {
        "id": "view-in-github",
        "colab_type": "text"
      },
      "source": [
        "<a href=\"https://colab.research.google.com/github/comerenna/Computer-Vision-Assessment1/blob/main/python_training.ipynb\" target=\"_parent\"><img src=\"https://colab.research.google.com/assets/colab-badge.svg\" alt=\"Open In Colab\"/></a>"
      ]
    },
    {
      "cell_type": "code",
      "execution_count": null,
      "metadata": {
        "colab": {
          "base_uri": "https://localhost:8080/"
        },
        "id": "tJR9Iyd9XqB1",
        "outputId": "4eee3d4f-0d01-42cb-a1e2-aa95e65464b1"
      },
      "outputs": [
        {
          "output_type": "stream",
          "name": "stdout",
          "text": [
            "Hello World!!\n"
          ]
        }
      ],
      "source": [
        "print(\"Hello World!!\")"
      ]
    },
    {
      "cell_type": "code",
      "source": [
        "x = 10\n",
        "if x == 15:\n",
        "  print(\"It is not possible\")\n",
        "else:\n",
        "  print(\"It is possible\")"
      ],
      "metadata": {
        "colab": {
          "base_uri": "https://localhost:8080/"
        },
        "id": "p86SEzqDXrjC",
        "outputId": "f5453669-9849-49eb-c8c4-1951afad2a52"
      },
      "execution_count": null,
      "outputs": [
        {
          "output_type": "stream",
          "name": "stdout",
          "text": [
            "It is possible\n"
          ]
        }
      ]
    },
    {
      "cell_type": "code",
      "source": [
        "item1 = 100\n",
        "item2 = 200\n",
        "item3 = 300\n",
        "\n",
        "total_amount = item1 + item2 + item3\n",
        "print(total_amount)"
      ],
      "metadata": {
        "colab": {
          "base_uri": "https://localhost:8080/"
        },
        "id": "hX8W56szNHLj",
        "outputId": "cb062bf8-30db-4eba-e7f8-951898606aa8"
      },
      "execution_count": null,
      "outputs": [
        {
          "output_type": "stream",
          "name": "stdout",
          "text": [
            "600\n"
          ]
        }
      ]
    },
    {
      "cell_type": "code",
      "source": [
        "loan_amount = 100000\n",
        "pay_so_far = 20000\n",
        "outstanding_amount = loan_amount - pay_so_far\n",
        "print(outstanding_amount)"
      ],
      "metadata": {
        "colab": {
          "base_uri": "https://localhost:8080/"
        },
        "id": "muF5Pk_BNonm",
        "outputId": "ef2356c4-6d6e-4bab-d655-abe6bf40f701"
      },
      "execution_count": null,
      "outputs": [
        {
          "output_type": "stream",
          "name": "stdout",
          "text": [
            "80000\n"
          ]
        }
      ]
    },
    {
      "cell_type": "markdown",
      "source": [
        "#Imagine that you are building a credit risk calculator, you need to check the\n",
        "#outstanding amount (loan amount - pay so far) and check this\n",
        "#if the outstanding amount is above 50000, then it is a high risk account\n",
        "#if the outstanding amount is below or equal to 50000, then it is a moderate risk account\n",
        "\n"
      ],
      "metadata": {
        "id": "2AEid1RbQ4aD"
      }
    },
    {
      "cell_type": "code",
      "source": [
        "loan_amount_amount = 100000\n",
        "pay_so_far = 20000\n",
        "outstanding_amount = loan_amount - pay_so_far\n",
        "if outstanding_amount <= 50000:\n",
        "  print(\"it is a moderate risk\")\n",
        "else:\n",
        "  print(\"the risk is high!!!\")\n",
        "\n"
      ],
      "metadata": {
        "colab": {
          "base_uri": "https://localhost:8080/"
        },
        "id": "bCl6CZhqQ3n8",
        "outputId": "195cfc88-bf3c-4bd8-9e6b-8705d16d0e06"
      },
      "execution_count": null,
      "outputs": [
        {
          "output_type": "stream",
          "name": "stdout",
          "text": [
            "the risk is high!!!\n"
          ]
        }
      ]
    },
    {
      "cell_type": "markdown",
      "source": [
        "#Imagine you are a groceries operator. Whenever you are doing the billing,\n",
        "#you have to calculate the total amount paid based on items purchased.\n",
        "#and for all the amount greater than 500, you will give 10% discount, and any amount below that you can give 5% off.\n",
        "#Finally, tell to customer how much to pay?\n"
      ],
      "metadata": {
        "id": "peXyazh8YmLr"
      }
    },
    {
      "cell_type": "code",
      "source": [
        "item1 = 100\n",
        "item2 = 300\n",
        "item3 = 400\n",
        "total_amount = item1 + item2 +item3\n",
        "\n",
        "if total_amount > 500:\n",
        "  discount = 10\n",
        "else:\n",
        "  discount = 5\n",
        "\n",
        "amount_to_pay = total_amount - total_amount * discount/100\n",
        "\n",
        "print(amount_to_pay)"
      ],
      "metadata": {
        "id": "XkiqpWNGNpb1",
        "outputId": "67a2287f-1c63-47c4-fd21-0f079d3fcd57",
        "colab": {
          "base_uri": "https://localhost:8080/"
        }
      },
      "execution_count": 5,
      "outputs": [
        {
          "output_type": "stream",
          "name": "stdout",
          "text": [
            "720.0\n"
          ]
        }
      ]
    },
    {
      "cell_type": "code",
      "source": [
        "item1 = 100\n",
        "item2 = 300\n",
        "item3 = 400\n",
        "total_amount = item1 + item2 +item3\n",
        "\n",
        "if total_amount > 500:\n",
        "  discount = 0.1\n",
        "else:\n",
        "  discount = 0.05\n",
        "\n",
        "amount_to_pay = total_amount - (total_amount * discount)\n",
        "\n",
        "print(amount_to_pay)"
      ],
      "metadata": {
        "id": "w7-x3-JnQ9RP",
        "outputId": "5861ed9a-4c1f-4492-b7f1-5689e0814b43",
        "colab": {
          "base_uri": "https://localhost:8080/"
        }
      },
      "execution_count": 8,
      "outputs": [
        {
          "output_type": "stream",
          "name": "stdout",
          "text": [
            "720.0\n"
          ]
        }
      ]
    },
    {
      "cell_type": "code",
      "source": [
        "item1 = 100\n",
        "item2 = 100\n",
        "item3 = 150\n",
        "total_amount = item1 + item2 +item3\n",
        "\n",
        "if total_amount > 500:\n",
        "  discount = total_amount * 0.1\n",
        "  amount_to_pay = total_amount - discount\n",
        "  print(amount_to_pay)\n",
        "elif total_amount < 500:\n",
        "  discount = total_amount * 0.05\n",
        "  amount_to_pay = total_amount - discount\n",
        "  print(amount_to_pay)\n",
        "else:\n",
        "  print(\"i get it\")\n"
      ],
      "metadata": {
        "colab": {
          "base_uri": "https://localhost:8080/"
        },
        "id": "JDhpuaJsUYOs",
        "outputId": "00c6a169-ad19-4137-cc05-e2893bba4cd6"
      },
      "execution_count": 7,
      "outputs": [
        {
          "output_type": "stream",
          "name": "stdout",
          "text": [
            "332.5\n"
          ]
        }
      ]
    },
    {
      "cell_type": "code",
      "source": [
        "item1 = 100\n",
        "item2 = 300\n",
        "item3 = 400\n",
        "total_amount = item1 + item2 +item3\n",
        "\n",
        "if total_amount > 500:\n",
        "  discount = total_amount * 0.1\n",
        "  amount_to_pay = total_amount - discount\n",
        "  print(amount_to_pay)\n",
        "elif total_amount < 500:\n",
        "  discount = total_amount * 0.05\n",
        "  amount_to_pay = total_amount - discount\n",
        "  print(amount_to_pay)\n",
        "else:\n",
        "  print(\"i get it\")"
      ],
      "metadata": {
        "id": "no-IekhEeVmr",
        "outputId": "cef0aeb2-ca48-47ba-f555-cf37a027a9f2",
        "colab": {
          "base_uri": "https://localhost:8080/"
        }
      },
      "execution_count": 2,
      "outputs": [
        {
          "output_type": "stream",
          "name": "stdout",
          "text": [
            "720.0\n"
          ]
        }
      ]
    },
    {
      "cell_type": "code",
      "source": [
        "item1 = 100\n",
        "item2 = 400\n",
        "item3 = 150\n",
        "total_amount = item1 + item2 +item3\n",
        "\n",
        "if total_amount == 500:\n",
        "  discount = total_amount * 0.1\n",
        "  amount_to_pay = total_amount - discount\n",
        "  print(amount_to_pay)\n",
        "elif total_amount < 500:\n",
        "  discount = total_amount * 0.05\n",
        "  amount_to_pay = total_amount - discount\n",
        "  print(amount_to_pay)\n",
        "else:\n",
        "  print(\"i get it\")"
      ],
      "metadata": {
        "id": "0W7-r8TrecH8",
        "outputId": "467e0b84-1399-442a-99ac-df3e638fdec0",
        "colab": {
          "base_uri": "https://localhost:8080/"
        }
      },
      "execution_count": 3,
      "outputs": [
        {
          "output_type": "stream",
          "name": "stdout",
          "text": [
            "i get it\n"
          ]
        }
      ]
    },
    {
      "cell_type": "markdown",
      "source": [
        "Question (1) A store sells apples at $5 each and bananas at $3 each. Declare variables apples_price and bananas_price with appropriate values. Calculate the total cost for purchasing 10 apples and 7 bananas and store the result in total_cost."
      ],
      "metadata": {
        "id": "iGCwy26YxXXl"
      }
    },
    {
      "cell_type": "code",
      "source": [
        "apples_price = 5\n",
        "bananas_price = 3\n",
        "\n",
        "total_cost = 10 * apples_price + 7 * bananas_price\n",
        "print(total_cost)"
      ],
      "metadata": {
        "id": "uFRfc85_ROr-",
        "outputId": "0ed7b897-dc04-49b9-c919-a64b0e1c2d60",
        "colab": {
          "base_uri": "https://localhost:8080/"
        }
      },
      "execution_count": 3,
      "outputs": [
        {
          "output_type": "stream",
          "name": "stdout",
          "text": [
            "71\n"
          ]
        }
      ]
    },
    {
      "cell_type": "markdown",
      "source": [
        "Question (2) You have a monthly salary of $4000 and expenses that include rent ($1200), groceries $300 and miscelleneous $500. Calculate the amount left after expenses and store it in a variable named remaining_balance"
      ],
      "metadata": {
        "id": "G3jytazvytu_"
      }
    },
    {
      "cell_type": "code",
      "source": [
        "monthly_salary = 4000\n",
        "rent = 1200\n",
        "groceries = 300\n",
        "miscelleneous = 500\n",
        "total_expenses = rent + groceries + miscelleneous\n",
        "remaining_balance = monthly_salary - total_expenses\n",
        "print(remaining_balance)"
      ],
      "metadata": {
        "id": "dqluDMo3yht7",
        "outputId": "be3cdba4-450d-4876-f042-6b358636e7b4",
        "colab": {
          "base_uri": "https://localhost:8080/"
        }
      },
      "execution_count": 5,
      "outputs": [
        {
          "output_type": "stream",
          "name": "stdout",
          "text": [
            "2000\n"
          ]
        }
      ]
    },
    {
      "cell_type": "markdown",
      "source": [
        "Question 3: A team won 28 matches this season, and last season they won 18 matches. Declare variables current_season_wins and last_season_wins with respective values. Calculate the increase in matches won and store it in win_difference"
      ],
      "metadata": {
        "id": "Uwsaug6azYdC"
      }
    },
    {
      "cell_type": "code",
      "source": [
        "currrent_season_wins = 28\n",
        "last_season_wins = 18\n",
        "\n",
        "win_difference = currrent_season_wins + last_season_wins\n",
        "print(win_difference)\n",
        "\n"
      ],
      "metadata": {
        "id": "pVkvTQnkzgpi",
        "outputId": "58911d19-dd9f-4935-8807-0313464b1089",
        "colab": {
          "base_uri": "https://localhost:8080/"
        }
      },
      "execution_count": 4,
      "outputs": [
        {
          "output_type": "stream",
          "name": "stdout",
          "text": [
            "46\n"
          ]
        }
      ]
    },
    {
      "cell_type": "markdown",
      "source": [
        "Question 4: A travel company charges $250 per person for a weekend trip and gives a $100 group discount for every 5 people. If a group has 15 people Calculate the total cost for the group and store it in group_trip_cost."
      ],
      "metadata": {
        "id": "837Sm4_O1KXj"
      }
    },
    {
      "cell_type": "code",
      "source": [
        "charges_per_person = 250\n",
        "discount_per_five = 100\n",
        "discount_per_fifteen = 300\n",
        "five_people = (charges_per_person * 5) - discount_per_five\n",
        "fifteen_people = (charges_per_person * 15) - discount_per_fifteen\n",
        "\n",
        "group_trip_cost = five_people + fifteen_people\n",
        "print(group_trip_cost)"
      ],
      "metadata": {
        "id": "WCXKoVa-1WTd",
        "outputId": "0b578bb3-5751-4ca5-970a-580cd4624b6a",
        "colab": {
          "base_uri": "https://localhost:8080/"
        }
      },
      "execution_count": 11,
      "outputs": [
        {
          "output_type": "stream",
          "name": "stdout",
          "text": [
            "4600\n"
          ]
        }
      ]
    },
    {
      "cell_type": "markdown",
      "source": [
        "Question 5: An item costs $120, and there is a discount of 15%. Calculate the final price after the discount and store it in discounted_price."
      ],
      "metadata": {
        "id": "bnGnMude8YyL"
      }
    },
    {
      "cell_type": "code",
      "source": [
        "cost_per_item = 120\n",
        "discount = 0.15\n",
        "discounted_price = cost_per_item - cost_per_item * discount\n",
        "print(discounted_price)"
      ],
      "metadata": {
        "id": "BfFjgbQm6Zj1",
        "outputId": "2fd6e8a2-94a8-422d-a762-f4c5c91a5057",
        "colab": {
          "base_uri": "https://localhost:8080/"
        }
      },
      "execution_count": 13,
      "outputs": [
        {
          "output_type": "stream",
          "name": "stdout",
          "text": [
            "102.0\n"
          ]
        }
      ]
    },
    {
      "cell_type": "markdown",
      "source": [
        "Question 6: A company produces 500 units daily and sells each unit for $20. Declare variables units_per_day and price_per_unit. Calculate the monthly revenue assuming a 30-day month and store it in monthly_revenue."
      ],
      "metadata": {
        "id": "951Kz2Cw_3-u"
      }
    },
    {
      "cell_type": "code",
      "source": [
        "units_per_day = 500\n",
        "price_per_unit = 20\n",
        "total_sales_per_day = units_per_day * price_per_unit\n",
        "monthly_revenue = total_sales_per_day * 30\n",
        "print(monthly_revenue)\n"
      ],
      "metadata": {
        "id": "WTMSZx6e_aSe",
        "outputId": "6491dd67-707b-4681-d9fe-bd0b15c0e8b9",
        "colab": {
          "base_uri": "https://localhost:8080/"
        }
      },
      "execution_count": 15,
      "outputs": [
        {
          "output_type": "stream",
          "name": "stdout",
          "text": [
            "300000\n"
          ]
        }
      ]
    },
    {
      "cell_type": "markdown",
      "source": [
        "Question 7: A farmer grows wheat on a 150-acre farm and yields 3,000 kg per acre. Declare variables acreage and yield_per_acre. Calculate the total wheat production and store it in total_production"
      ],
      "metadata": {
        "id": "eYwfPx2tzdP3"
      }
    },
    {
      "cell_type": "code",
      "source": [
        "acre_age = 150\n",
        "yield_per_acre = 3000\n",
        "total_production = acre_age * yield_per_acre\n",
        "print(total_production)"
      ],
      "metadata": {
        "id": "Z76H4iCb1MLn",
        "outputId": "d7191c39-838e-41b1-ecb2-4d0bf1b218e1",
        "colab": {
          "base_uri": "https://localhost:8080/"
        }
      },
      "execution_count": 16,
      "outputs": [
        {
          "output_type": "stream",
          "name": "stdout",
          "text": [
            "450000\n"
          ]
        }
      ]
    },
    {
      "cell_type": "markdown",
      "source": [
        "Question 8: A bakery makes $2 profit on each loaf of bread sold. If they sell 200 loaves in a day, declare variables profit_per_loaf and loaves_sold. Calculate the daily profit and store it in daily_profit."
      ],
      "metadata": {
        "id": "e197YiCFxUGk"
      }
    },
    {
      "cell_type": "code",
      "source": [
        "loaves_sold = 200\n",
        "profit_per_loaf = 2\n",
        "daily_profit = loaves_sold * profit_per_loaf\n",
        "print(daily_profit)"
      ],
      "metadata": {
        "id": "dJr6UNFNBXn-",
        "outputId": "e9ef199f-9911-494d-a655-89b8fc4a9d78",
        "colab": {
          "base_uri": "https://localhost:8080/"
        }
      },
      "execution_count": 17,
      "outputs": [
        {
          "output_type": "stream",
          "name": "stdout",
          "text": [
            "400\n"
          ]
        }
      ]
    },
    {
      "cell_type": "markdown",
      "source": [
        "Question 9: You are planning an event for 120 attendees. The venue rental is $800, and catering costs $25 per person. Declare variables venue_cost, catering_cost_per_person, and number_of_attendees. Calculate the total cost of the event and store it in event_total_cost."
      ],
      "metadata": {
        "id": "Jmyx1DkXB0Nt"
      }
    },
    {
      "cell_type": "code",
      "source": [
        "venue_cost = 800\n",
        "catering_cost_per_person = 25\n",
        "number_of_attendees = 120\n",
        "\n",
        "event_cost_per_person = number_of_attendees * catering_cost_per_person\n",
        "event_total_cost = event_cost_per_person + venue_cost\n",
        "print(event_total_cost)"
      ],
      "metadata": {
        "id": "ogAAwj3vB64G",
        "outputId": "9ba7b1ee-d756-44f7-cba8-bfd5e4b17b20",
        "colab": {
          "base_uri": "https://localhost:8080/"
        }
      },
      "execution_count": 18,
      "outputs": [
        {
          "output_type": "stream",
          "name": "stdout",
          "text": [
            "3800\n"
          ]
        }
      ]
    },
    {
      "cell_type": "markdown",
      "source": [
        "Question 10: A school's annual fee per student is $1,500, and they provide a 5% sibling discount. Declare variables annual_fee and sibling_discount_percent. Calculate the discounted fee for one sibling and store it in sibling_discounted_fee.\n"
      ],
      "metadata": {
        "id": "HZ4_iQy2C0FB"
      }
    },
    {
      "cell_type": "code",
      "source": [
        "annual_fee = 1500\n",
        "sibling_discount_percent = 0.05\n",
        "sibling_discounted_percent = annual_fee * sibling_discount_percent\n",
        "print(sibling_discounted_percent)"
      ],
      "metadata": {
        "id": "K4xlYX-EC8eh",
        "outputId": "7e871c2c-1e33-416c-bbbf-7a3e005d4e86",
        "colab": {
          "base_uri": "https://localhost:8080/"
        }
      },
      "execution_count": 19,
      "outputs": [
        {
          "output_type": "stream",
          "name": "stdout",
          "text": [
            "75.0\n"
          ]
        }
      ]
    },
    {
      "cell_type": "code",
      "source": [
        "#Imagine you are building a weather.com portal. Now on this portal you have been asked to add the functionality as follows:\n",
        "#for any temperature the user entered you have to say if it is high or low\n",
        "#Any temperature above 40 degree considered it to be high\n",
        "# any temperature below 10 degree considered it to be low\n",
        "\n",
        "# Example: If user entered 50 degree"
      ],
      "metadata": {
        "id": "H_MqxynuVl1F"
      },
      "execution_count": null,
      "outputs": []
    },
    {
      "cell_type": "code",
      "source": [
        "temp = int(input(\"Enter the temperature \"))\n",
        "\n",
        "if temp > 40:\n",
        "  print(\"It is a high temperature\")\n",
        "\n",
        "if temp < 10:\n",
        "  print(\"It is a low temperature\")"
      ],
      "metadata": {
        "id": "autfG0cCQW2x",
        "outputId": "4df844e7-3c29-42b5-836f-e291668d29f3",
        "colab": {
          "base_uri": "https://localhost:8080/"
        }
      },
      "execution_count": 11,
      "outputs": [
        {
          "output_type": "stream",
          "name": "stdout",
          "text": [
            "Enter the temperature 5\n",
            "It is a low temperature\n"
          ]
        }
      ]
    },
    {
      "cell_type": "code",
      "source": [
        "if temp > 40:\n",
        "  print(\"It is a high temperature\")\n",
        "else:\n",
        "  print(\"It is a low temperature\")"
      ],
      "metadata": {
        "id": "b-L0kra9ROKw",
        "outputId": "c7e2ac27-2204-48e6-ef80-df30782ffccd",
        "colab": {
          "base_uri": "https://localhost:8080/"
        }
      },
      "execution_count": 12,
      "outputs": [
        {
          "output_type": "stream",
          "name": "stdout",
          "text": [
            "It is a low temperature\n"
          ]
        }
      ]
    },
    {
      "cell_type": "code",
      "source": [
        "# Imagine you are going to a movie with your family. You, including your spouse and kid who is nine (9) years old.\n",
        "# Tuesday offer in PVR, for adults who is above 18 years, ticket price is 100 Rupees.\n",
        "# for kids who are below 18 years, ticket price is 50 Rupees.\n",
        "\n",
        "# how much to pay"
      ],
      "metadata": {
        "id": "cyW9TEoAUZHp"
      },
      "execution_count": null,
      "outputs": []
    },
    {
      "cell_type": "code",
      "source": [
        "husband = 28\n",
        "wife = 24\n",
        "kid = 17\n",
        "\n",
        "amount = 0\n",
        "\n",
        "if husband > 18:\n",
        "  amount = amount + 100\n",
        "\n",
        "if wife > 18:\n",
        "  amount = amount + 100\n",
        "\n",
        "if kid > 18:\n",
        "  amount = amount + 100\n",
        "\n",
        "else:\n",
        "  amount = amount + 50\n",
        "\n",
        "\n",
        "print(amount)"
      ],
      "metadata": {
        "id": "Es9xV33MVpm5",
        "outputId": "73898526-5999-47ba-dc86-d3eaef5614e2",
        "colab": {
          "base_uri": "https://localhost:8080/"
        }
      },
      "execution_count": 7,
      "outputs": [
        {
          "output_type": "stream",
          "name": "stdout",
          "text": [
            "250\n"
          ]
        }
      ]
    },
    {
      "cell_type": "code",
      "source": [
        "# you are a developer at Zomaoto, They are lunching for a new offer.\n",
        "# If you order above 500 Rupees, you will get 20% off.\n",
        "#If you order below 500 Rupees, you will get 10% off.\n",
        "\n",
        "#Also, there is another special offer,\n",
        "#if you order for above 500 rupees and your shipping distance below 10KM\n",
        "#you will get additional 5% off.\n",
        "#If the shipping distance is above 10KM then you will 20% additional off.\n",
        "\n",
        "#Now, tell me how much I have to pay for example\n",
        "#I ordered for 1000 rupees and my shipping distance is 5 KM\n"
      ],
      "metadata": {
        "id": "TdyNLriTusIl"
      },
      "execution_count": null,
      "outputs": []
    },
    {
      "cell_type": "code",
      "source": [
        "order = 700\n",
        "shipping_distance = 10\n",
        "amount = 0\n",
        "\n",
        "if order > 500:\n",
        "  discount = 0.2\n",
        "  amount = amount +\n",
        "\n",
        "if shipping_distance > 10\n",
        "discount = 0.2\n",
        "\n",
        "if order > 500:\n",
        "  shipping_distance\n",
        "\n",
        "if order < 500:\n",
        "  discount = 0.1"
      ],
      "metadata": {
        "id": "1q30HUxM2K8n"
      },
      "execution_count": null,
      "outputs": []
    }
  ]
}